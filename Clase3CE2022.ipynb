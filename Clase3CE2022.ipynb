{
  "nbformat": 4,
  "nbformat_minor": 0,
  "metadata": {
    "colab": {
      "name": "Clase2CE2022.ipynb",
      "provenance": []
    },
    "kernelspec": {
      "name": "python3",
      "display_name": "Python 3"
    },
    "language_info": {
      "name": "python"
    }
  },
  "cells": [
    {
      "cell_type": "markdown",
      "source": [
        "#SEGUNDA CLASE COMPUTACIÓN ESTADÍSTICA\n",
        "#Angie Ximena Garzon - 1007749757\n",
        "#Llevar a codigo funcional las siguientes funciones: "
      ],
      "metadata": {
        "id": "F6vNZTnNr63h"
      }
    },
    {
      "cell_type": "markdown",
      "source": [
        "\n",
        "\n",
        "1.   $Y_{1}= log(x)$\n",
        "\n",
        "2.   $Y_{2}= log(\\sqrt{x})$\n",
        "3. $Y_{3}= log(\\sqrt{x^{2}-1})$\n",
        "4. $Y_{4}= log \\frac{log(\\sqrt{x-1})}{x^{2}+1}$\n",
        "5. $Y_{5}= \\frac{x-1}{log(x)}$\n",
        "6. $Y_{6}=\\frac{1}{x}+\\sqrt{x-1}$\n",
        "7. $Y_{7}=\\frac{1}{x}+\\sqrt{x-1}-\\frac{1}{log(\\frac{1}{x+1})}$\n",
        "8. $Y_{8}= \\frac{2}{x^{2}+1}$\n",
        "9. $ Y_{9}=\\frac{1}{n}\\sum_{i=1}^{n}x_{i}$\n",
        "10. $Y_{10}= \\frac{1}{n-1}\\sum_{i=1}^{n}(x_{i}-\\bar{x})^{2}$\n",
        "11. $ Y_{11}=\\frac{\\sqrt{y_{10}}}{y_{9}}$\n",
        "\n",
        "\n",
        "\n"
      ],
      "metadata": {
        "id": "yX8rUWuyr4v9"
      }
    },
    {
      "cell_type": "code",
      "source": [
        "\n",
        "import math\n",
        "from math import log\n",
        "\n",
        "x1 = float(input('Ingrese un valor X: '))\n",
        "if x1>0:\n",
        "  y1 = log(x1, 10)\n",
        "  print(f'Y es: {y1}')\n",
        "else: \n",
        "  print('Fuera del dominio de y')"
      ],
      "metadata": {
        "colab": {
          "base_uri": "https://localhost:8080/"
        },
        "id": "vOOGOf2ty-zX",
        "outputId": "3ea608d4-eb9e-48df-ef43-7d68ce4a6324"
      },
      "execution_count": 3,
      "outputs": [
        {
          "output_type": "stream",
          "name": "stdout",
          "text": [
            "Ingrese un valor X: -1\n",
            "Fuera del dominio de y\n"
          ]
        }
      ]
    },
    {
      "cell_type": "code",
      "source": [
        "import math\n",
        "from math import log\n",
        "from math import sqrt\n",
        "\n",
        "x2 = float(input('Ingrese un valor X: '))\n",
        "if x2>0:\n",
        "  y2 = log(sqrt(x),10)\n",
        "  print(f'Y es: {y2}')\n",
        "else: \n",
        "  print('Fuera del dominio de y')"
      ],
      "metadata": {
        "colab": {
          "base_uri": "https://localhost:8080/"
        },
        "id": "tVLqKBQ0tMMX",
        "outputId": "4a6787f3-02a3-402b-b231-ff2825f0fa4c"
      },
      "execution_count": 6,
      "outputs": [
        {
          "output_type": "stream",
          "name": "stdout",
          "text": [
            "Ingrese un valor X: -2\n",
            "Fuera del dominio de y\n"
          ]
        }
      ]
    },
    {
      "cell_type": "code",
      "source": [
        "import math\n",
        "from math import log\n",
        "from math import sqrt\n",
        "\n",
        "x3 = float(input('Ingrese un valor X: '))\n",
        "if (x3>1) or (x3<-1):\n",
        "  y3 = log(sqrt(x3**2 -1),10)\n",
        "  print(f'Y es: {y3}')\n",
        "else: \n",
        "  print('Fuera del dominio de y')"
      ],
      "metadata": {
        "colab": {
          "base_uri": "https://localhost:8080/"
        },
        "id": "MJPa-HwzzoL0",
        "outputId": "27e8d099-0121-4bce-97b7-5d26d7dfad49"
      },
      "execution_count": 23,
      "outputs": [
        {
          "output_type": "stream",
          "name": "stdout",
          "text": [
            "Ingrese un valor X: 2\n",
            "Y es: 0.23856062735983116\n"
          ]
        }
      ]
    },
    {
      "cell_type": "code",
      "source": [
        "import math\n",
        "from math import log\n",
        "from math import sqrt\n",
        "\n",
        "x4 = float(input('Ingrese un valor X: '))\n",
        "if (x4>1):\n",
        "  y4 = log((sqrt(x4-1)),10) / (x4**2 +1)\n",
        "  print(f'Y es: {y4}')\n",
        "else: \n",
        "  print('Fuera del dominio de y')"
      ],
      "metadata": {
        "colab": {
          "base_uri": "https://localhost:8080/"
        },
        "id": "dBVmYqJv0U56",
        "outputId": "19d4075e-4b27-4f89-d2a1-87e7f64c189d"
      },
      "execution_count": 9,
      "outputs": [
        {
          "output_type": "stream",
          "name": "stdout",
          "text": [
            "Ingrese un valor X: 10\n",
            "Y es: 0.004723972819006559\n"
          ]
        }
      ]
    },
    {
      "cell_type": "code",
      "source": [
        "import math\n",
        "from math import log\n",
        "from math import sqrt\n",
        "\n",
        "x5 = float(input('Ingrese un valor X: '))\n",
        "if (0<x5<1) or (x5>1):\n",
        "  y5 =   (x5-1) / log(x5,10)\n",
        "  print(f'Y es: {y5}')\n",
        "else: \n",
        "  print('Fuera del dominio de y')\n"
      ],
      "metadata": {
        "colab": {
          "base_uri": "https://localhost:8080/"
        },
        "id": "0MBeWvc30g7E",
        "outputId": "805f1e3a-1162-4bad-a9dc-054ee8cf97f6"
      },
      "execution_count": 10,
      "outputs": [
        {
          "output_type": "stream",
          "name": "stdout",
          "text": [
            "Ingrese un valor X: 5\n",
            "Y es: 5.7227062322935724\n"
          ]
        }
      ]
    },
    {
      "cell_type": "code",
      "source": [
        "import math\n",
        "from math import log\n",
        "from math import sqrt\n",
        "\n",
        "x6 = float(input('Ingrese un valor X: '))\n",
        "if (x6>=1):\n",
        "  y6 = (1/x6) +sqrt(x6-1)\n",
        "  print(f'Y es: {y6}')\n",
        "else: \n",
        "  print('Fuera del dominio de y')"
      ],
      "metadata": {
        "colab": {
          "base_uri": "https://localhost:8080/"
        },
        "id": "kScslnK60z0K",
        "outputId": "263b8b72-3472-418b-86b1-2926053f08ea"
      },
      "execution_count": 15,
      "outputs": [
        {
          "output_type": "stream",
          "name": "stdout",
          "text": [
            "Ingrese un valor X: 2\n",
            "Y es: 1.5\n"
          ]
        }
      ]
    },
    {
      "cell_type": "code",
      "source": [
        "import math\n",
        "from math import log\n",
        "from math import sqrt\n",
        "\n",
        "x7 = float(input('Ingrese un valor X: '))\n",
        "if (x7>=1):\n",
        "  y7 = (1/x7) + sqrt(x7-1) - log((1)/(x7+1))\n",
        "  print(f'Y es: {y7}')\n",
        "else: \n",
        "  print('Fuera del dominio de y')"
      ],
      "metadata": {
        "colab": {
          "base_uri": "https://localhost:8080/"
        },
        "id": "7lSykeKZ1LsH",
        "outputId": "a9ae7169-0f57-444a-dfc5-70ab6338f854"
      },
      "execution_count": 21,
      "outputs": [
        {
          "output_type": "stream",
          "name": "stdout",
          "text": [
            "Ingrese un valor X: 3\n",
            "Y es: 3.1338412568263188\n"
          ]
        }
      ]
    },
    {
      "cell_type": "code",
      "source": [
        "import math\n",
        "from math import log\n",
        "from math import sqrt\n",
        "\n",
        "x8 = float(input('Ingrese un valor X: '))\n",
        "y8 = 2 / (x8**2 +1)\n",
        "print(f'Y es: {y8}')"
      ],
      "metadata": {
        "colab": {
          "base_uri": "https://localhost:8080/"
        },
        "id": "TFaEDzAl2eYy",
        "outputId": "04580b89-5d55-4bd1-b2c7-00f07791f2ae"
      },
      "execution_count": 24,
      "outputs": [
        {
          "output_type": "stream",
          "name": "stdout",
          "text": [
            "Ingrese un valor X: 3\n",
            "Y es: 0.2\n"
          ]
        }
      ]
    },
    {
      "cell_type": "code",
      "source": [
        "#9 -10.\n",
        "import statistics\n",
        "\n",
        "nums = []\n",
        "print('¿Cuantos numeros quiere ingresar?')\n",
        "n = int(input())\n",
        "i = 0\n",
        "while i < n:\n",
        "  print('Valor numero:', i+1)\n",
        "  var = float(input())\n",
        "  nums.append(var)\n",
        "  i+=1\n",
        "\n",
        "prom = statistics.mean(nums)\n",
        "print('El promedio sera: ', prom)\n",
        "\n",
        "vari = statistics.variance(nums)\n",
        "print('La varianza sera: ', vari)"
      ],
      "metadata": {
        "colab": {
          "base_uri": "https://localhost:8080/"
        },
        "id": "83VTxmAx2pQ9",
        "outputId": "a4450d20-ea5a-43ad-ffa9-1895df3f8f18"
      },
      "execution_count": 37,
      "outputs": [
        {
          "output_type": "stream",
          "name": "stdout",
          "text": [
            "¿Cuantos numeros quiere ingresar?\n",
            "2\n",
            "Valor numero: 1\n",
            "56\n",
            "Valor numero: 2\n",
            "455\n",
            "El promedio sera:  255.5\n",
            "La varianza sera:  79600.5\n"
          ]
        }
      ]
    },
    {
      "cell_type": "code",
      "source": [
        "# 11.\n",
        "import math\n",
        "from math import sqrt\n",
        "\n",
        "y11 = sqrt(vari) / prom\n",
        "print('Y11 es:', y11) \n"
      ],
      "metadata": {
        "colab": {
          "base_uri": "https://localhost:8080/"
        },
        "id": "abvFt4MB57K1",
        "outputId": "2d8a9ca2-9053-4051-b3bd-6a16c191ea36"
      },
      "execution_count": 38,
      "outputs": [
        {
          "output_type": "stream",
          "name": "stdout",
          "text": [
            "Y11 es: 1.1042489459625537\n"
          ]
        }
      ]
    },
    {
      "cell_type": "markdown",
      "source": [
        "Construya una funcion que returne la varianza de un conjunto de datos (n ≥ 2) cuando se va incorporando dato a dato. Use como primer par de datos los que se generan de la distribucion normal con μ = 3 y s = 0,3.Use la misma semilla y los mismos par ́ametros de la distribucion para incorporar cada dato. Haga el proceso 50 veces y luego grafique la varianza como funcion de n.\n"
      ],
      "metadata": {
        "id": "NlAFEH4L7w7M"
      }
    },
    {
      "cell_type": "code",
      "source": [
        "import math\n",
        "import numpy \n",
        "import random\n",
        "import matplotlib.pyplot as plt\n",
        "def variance(n):\n",
        "  var2 = numpy.random.normal(3,0.3,2)\n",
        "  list_var = [var2[0], var2[1]]\n",
        "  list_n = numpy.random.normal(3,0.3,n)\n",
        "  for i in range(n):\n",
        "    list_var.append(list_n[i])\n",
        "    print(numpy.var(list_var))\n",
        "  import matplotlib.pyplot as plt\n",
        "  plt.plot(list_var, range(n+2), 'pr')\n",
        "  plt.xlabel('Varianza')\n",
        "  plt.ylabel('N')\n",
        "  plt.show()\n",
        "variance(50)"
      ],
      "metadata": {
        "colab": {
          "base_uri": "https://localhost:8080/",
          "height": 1000
        },
        "id": "GYWuouqH8GPT",
        "outputId": "30b314e6-0b06-41c0-fe33-d93738a4220e"
      },
      "execution_count": 49,
      "outputs": [
        {
          "output_type": "stream",
          "name": "stdout",
          "text": [
            "0.03339899139655906\n",
            "0.0757891592038265\n",
            "0.10116715708929169\n",
            "0.08989674796706076\n",
            "0.10086219508705965\n",
            "0.11063234235466934\n",
            "0.12311458710633769\n",
            "0.1135330605475144\n",
            "0.10324203924523366\n",
            "0.11168066304446685\n",
            "0.10803878665058914\n",
            "0.1011533413649552\n",
            "0.11007037815155361\n",
            "0.11209187777374499\n",
            "0.12316580379239843\n",
            "0.11675632574708078\n",
            "0.12153770161608336\n",
            "0.126839369577936\n",
            "0.12110908385729047\n",
            "0.11769731417540279\n",
            "0.11724911474129306\n",
            "0.12164718724307262\n",
            "0.11772892940364095\n",
            "0.11669773710905228\n",
            "0.11999308811310928\n",
            "0.11668726329162586\n",
            "0.11620190268800608\n",
            "0.11436454794840083\n",
            "0.113359565890922\n",
            "0.10989939553413554\n",
            "0.10709694679350057\n",
            "0.10505045138142442\n",
            "0.10576679233087322\n",
            "0.10519137864943938\n",
            "0.10237216201196975\n",
            "0.09985744423103202\n",
            "0.09753369793434899\n",
            "0.0958419238558637\n",
            "0.09371055837414506\n",
            "0.09155179351240997\n",
            "0.09028435547737043\n",
            "0.09057043261270727\n",
            "0.09222414285325331\n",
            "0.09181047645252083\n",
            "0.09024728771753988\n",
            "0.092439911992565\n",
            "0.09233124535101962\n",
            "0.09177546345268238\n",
            "0.09036467186163151\n",
            "0.09157477804267322\n"
          ]
        },
        {
          "output_type": "display_data",
          "data": {
            "text/plain": [
              "<Figure size 432x288 with 1 Axes>"
            ],
            "image/png": "[encoded data removed]"
          },
          "metadata": {
            "needs_background": "light"
          }
        }
      ]
    },
    {
      "cell_type": "markdown",
      "source": [
        "La cantidad de radiacion absorbida puede medirse por la transmitancia. La re-\n",
        "lacion entre transmitancia (T) y absorbancia (A) est ́a dada por la ley Beer-\n",
        "Lambert (ley de Beer). Cree una funcion para la expresion que aparece en\n",
        "\n",
        "https ://www.electrical4u.com/what−is−transmittance/ y genere unos datos\n",
        "de T para determinar A. Grafique la funci ́on. Finalmente lea la seccion titulada:\n",
        "✭✭Why is Absorbance the Preferred Unit Over Transmittance?✮✮\n",
        "\n"
      ],
      "metadata": {
        "id": "sul9eHAo9Uae"
      }
    },
    {
      "cell_type": "code",
      "source": [
        "import numpy\n",
        "import matplotlib.pyplot as plt\n",
        "import math\n",
        "def absorbance(T, *args, **kwargs):\n",
        "    if str(type(T))[8:12] != 'list':\n",
        "        return f'ingresar lista de transmitancias'\n",
        "    else:\n",
        "        transmittance = []\n",
        "        absorbance = []\n",
        "        for i in range(len(T)):\n",
        "            transmittance.append(T[i])\n",
        "            A = 4 - math.log10(T[i])\n",
        "            absorbance.append(A)\n",
        "        plt.plot(absorbance, transmittance, 'pr') \n",
        "        plt.title('Absorbancia vs Transmitancia')  \n",
        "        plt.xlabel('Absorbancia')\n",
        "        plt.ylabel('Trasmitancia') \n",
        "        plt.show()\n",
        "import numpy\n",
        "T = numpy.random.uniform(50,100,100)\n",
        "absorbance(T =list(T))"
      ],
      "metadata": {
        "colab": {
          "base_uri": "https://localhost:8080/",
          "height": 295
        },
        "id": "14ts57s-9p_0",
        "outputId": "fbd3de5e-2dec-493e-e4fa-f908477d263f"
      },
      "execution_count": 61,
      "outputs": [
        {
          "output_type": "display_data",
          "data": {
            "text/plain": [
              "<Figure size 432x288 with 1 Axes>"
            ],
            "image/png": "[encoded data removed]"
          },
          "metadata": {
            "needs_background": "light"
          }
        }
      ]
    }
  ]
}
